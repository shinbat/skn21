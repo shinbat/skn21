{
 "cells": [
  {
   "cell_type": "markdown",
   "metadata": {},
   "source": [
    "# 데이터 불러오기"
   ]
  },
  {
   "cell_type": "markdown",
   "metadata": {
    "ExecuteTime": {
     "end_time": "2021-03-12T05:10:15.329775Z",
     "start_time": "2021-03-12T05:10:15.314775Z"
    }
   },
   "source": [
    "- 2022년 주유소들의 일자별 가격 데이터\n",
    "- https://www.opinet.co.kr/user/opdown/opDownload.do"
   ]
  },
  {
   "cell_type": "code",
   "execution_count": 1,
   "metadata": {},
   "outputs": [
    {
     "name": "stderr",
     "output_type": "stream",
     "text": [
      "\u001b[2mResolved \u001b[1m11 packages\u001b[0m \u001b[2min 157ms\u001b[0m\u001b[0m\n",
      "\u001b[2mInstalled \u001b[1m8 packages\u001b[0m \u001b[2min 887ms\u001b[0m\u001b[0m\n",
      " \u001b[32m+\u001b[39m \u001b[1mcontourpy\u001b[0m\u001b[2m==1.3.3\u001b[0m\n",
      " \u001b[32m+\u001b[39m \u001b[1mcycler\u001b[0m\u001b[2m==0.12.1\u001b[0m\n",
      " \u001b[32m+\u001b[39m \u001b[1mfonttools\u001b[0m\u001b[2m==4.60.1\u001b[0m\n",
      " \u001b[32m+\u001b[39m \u001b[1mkiwisolver\u001b[0m\u001b[2m==1.4.9\u001b[0m\n",
      " \u001b[32m+\u001b[39m \u001b[1mmatplotlib\u001b[0m\u001b[2m==3.10.7\u001b[0m\n",
      " \u001b[32m+\u001b[39m \u001b[1mnumpy\u001b[0m\u001b[2m==2.3.4\u001b[0m\n",
      " \u001b[32m+\u001b[39m \u001b[1mpillow\u001b[0m\u001b[2m==12.0.0\u001b[0m\n",
      " \u001b[32m+\u001b[39m \u001b[1mpyparsing\u001b[0m\u001b[2m==3.2.5\u001b[0m\n"
     ]
    }
   ],
   "source": [
    "!uv pip install matplotlib"
   ]
  },
  {
   "cell_type": "code",
   "execution_count": 5,
   "metadata": {},
   "outputs": [
    {
     "name": "stderr",
     "output_type": "stream",
     "text": [
      "\u001b[2mAudited \u001b[1m3 packages\u001b[0m \u001b[2min 17ms\u001b[0m\u001b[0m\n"
     ]
    }
   ],
   "source": [
    "# !uv pip install pandas\n",
    "!uv pip install ipykernel pandas matplotlib"
   ]
  },
  {
   "cell_type": "code",
   "execution_count": null,
   "metadata": {
    "ExecuteTime": {
     "end_time": "2022-06-17T04:38:27.371953Z",
     "start_time": "2022-06-17T04:38:27.353003Z"
    }
   },
   "outputs": [
    {
     "data": {
      "text/plain": [
       "<bound method DataFrame.info of              번호      지역               상호                       주소        기간  \\\n",
       "0      A0006039  서울 강남구  (유)동하석유 힐탑셀프주유소           서울 강남구 논현로 640  20220701   \n",
       "1      A0006039  서울 강남구  (유)동하석유 힐탑셀프주유소           서울 강남구 논현로 640  20220702   \n",
       "2      A0006039  서울 강남구  (유)동하석유 힐탑셀프주유소           서울 강남구 논현로 640  20220703   \n",
       "3      A0006039  서울 강남구  (유)동하석유 힐탑셀프주유소           서울 강남구 논현로 640  20220704   \n",
       "4      A0006039  서울 강남구  (유)동하석유 힐탑셀프주유소           서울 강남구 논현로 640  20220705   \n",
       "...         ...     ...              ...                      ...       ...   \n",
       "81788  A0009138  서울 중랑구            우림주유소  서울 중랑구 용마산로 487 (망우제3동)  20221227   \n",
       "81789  A0009138  서울 중랑구            우림주유소  서울 중랑구 용마산로 487 (망우제3동)  20221228   \n",
       "81790  A0009138  서울 중랑구            우림주유소  서울 중랑구 용마산로 487 (망우제3동)  20221229   \n",
       "81791  A0009138  서울 중랑구            우림주유소  서울 중랑구 용마산로 487 (망우제3동)  20221230   \n",
       "81792  A0009138  서울 중랑구            우림주유소  서울 중랑구 용마산로 487 (망우제3동)  20221231   \n",
       "\n",
       "          상표 셀프여부  고급휘발유   휘발유    경유  실내등유  \n",
       "0      SK에너지   셀프   2487  2287  2297     0  \n",
       "1      SK에너지   셀프   2447  2247  2277     0  \n",
       "2      SK에너지   셀프   2447  2247  2277     0  \n",
       "3      SK에너지   셀프   2447  2247  2277     0  \n",
       "4      SK에너지   셀프   2447  2247  2277     0  \n",
       "...      ...  ...    ...   ...   ...   ...  \n",
       "81788  GS칼텍스   셀프      0  1525  1745     0  \n",
       "81789  GS칼텍스   셀프      0  1525  1720     0  \n",
       "81790  GS칼텍스   셀프      0  1525  1720     0  \n",
       "81791  GS칼텍스   셀프      0  1515  1715     0  \n",
       "81792  GS칼텍스   셀프      0  1515  1715     0  \n",
       "\n",
       "[81793 rows x 11 columns]>"
      ]
     },
     "execution_count": 7,
     "metadata": {},
     "output_type": "execute_result"
    }
   ],
   "source": [
    "# 상반기, 하반기 주유소 가격 데이터 조회\n",
    "import pandas as pd\n",
    "\n",
    "a = pd.read_csv('data/2022년_서울_상반기_일별_가격.csv', encoding='cp949')\n",
    "a.info\n",
    "b = pd.read_csv('data/2022년_서울_하반기_일별_가격.csv', encoding='cp949')\n",
    "b.info\n"
   ]
  },
  {
   "cell_type": "code",
   "execution_count": 13,
   "metadata": {
    "ExecuteTime": {
     "end_time": "2022-06-17T04:38:27.387910Z",
     "start_time": "2022-06-17T04:38:27.374908Z"
    }
   },
   "outputs": [
    {
     "data": {
      "text/html": [
       "<div>\n",
       "<style scoped>\n",
       "    .dataframe tbody tr th:only-of-type {\n",
       "        vertical-align: middle;\n",
       "    }\n",
       "\n",
       "    .dataframe tbody tr th {\n",
       "        vertical-align: top;\n",
       "    }\n",
       "\n",
       "    .dataframe thead th {\n",
       "        text-align: right;\n",
       "    }\n",
       "</style>\n",
       "<table border=\"1\" class=\"dataframe\">\n",
       "  <thead>\n",
       "    <tr style=\"text-align: right;\">\n",
       "      <th></th>\n",
       "      <th>번호</th>\n",
       "      <th>지역</th>\n",
       "      <th>상호</th>\n",
       "      <th>주소</th>\n",
       "      <th>기간</th>\n",
       "      <th>상표</th>\n",
       "      <th>셀프여부</th>\n",
       "      <th>고급휘발유</th>\n",
       "      <th>휘발유</th>\n",
       "      <th>경유</th>\n",
       "      <th>실내등유</th>\n",
       "    </tr>\n",
       "  </thead>\n",
       "  <tbody>\n",
       "    <tr>\n",
       "      <th>0</th>\n",
       "      <td>A0006039</td>\n",
       "      <td>서울 강남구</td>\n",
       "      <td>(유)동하석유 힐탑셀프주유소</td>\n",
       "      <td>서울 강남구 논현로 640</td>\n",
       "      <td>20220101</td>\n",
       "      <td>SK에너지</td>\n",
       "      <td>셀프</td>\n",
       "      <td>1887</td>\n",
       "      <td>1737</td>\n",
       "      <td>1587</td>\n",
       "      <td>0</td>\n",
       "    </tr>\n",
       "    <tr>\n",
       "      <th>1</th>\n",
       "      <td>A0006039</td>\n",
       "      <td>서울 강남구</td>\n",
       "      <td>(유)동하석유 힐탑셀프주유소</td>\n",
       "      <td>서울 강남구 논현로 640</td>\n",
       "      <td>20220102</td>\n",
       "      <td>SK에너지</td>\n",
       "      <td>셀프</td>\n",
       "      <td>1887</td>\n",
       "      <td>1737</td>\n",
       "      <td>1587</td>\n",
       "      <td>0</td>\n",
       "    </tr>\n",
       "    <tr>\n",
       "      <th>2</th>\n",
       "      <td>A0006039</td>\n",
       "      <td>서울 강남구</td>\n",
       "      <td>(유)동하석유 힐탑셀프주유소</td>\n",
       "      <td>서울 강남구 논현로 640</td>\n",
       "      <td>20220103</td>\n",
       "      <td>SK에너지</td>\n",
       "      <td>셀프</td>\n",
       "      <td>1887</td>\n",
       "      <td>1737</td>\n",
       "      <td>1587</td>\n",
       "      <td>0</td>\n",
       "    </tr>\n",
       "    <tr>\n",
       "      <th>3</th>\n",
       "      <td>A0006039</td>\n",
       "      <td>서울 강남구</td>\n",
       "      <td>(유)동하석유 힐탑셀프주유소</td>\n",
       "      <td>서울 강남구 논현로 640</td>\n",
       "      <td>20220104</td>\n",
       "      <td>SK에너지</td>\n",
       "      <td>셀프</td>\n",
       "      <td>1887</td>\n",
       "      <td>1737</td>\n",
       "      <td>1587</td>\n",
       "      <td>0</td>\n",
       "    </tr>\n",
       "    <tr>\n",
       "      <th>4</th>\n",
       "      <td>A0006039</td>\n",
       "      <td>서울 강남구</td>\n",
       "      <td>(유)동하석유 힐탑셀프주유소</td>\n",
       "      <td>서울 강남구 논현로 640</td>\n",
       "      <td>20220105</td>\n",
       "      <td>SK에너지</td>\n",
       "      <td>셀프</td>\n",
       "      <td>1887</td>\n",
       "      <td>1737</td>\n",
       "      <td>1587</td>\n",
       "      <td>0</td>\n",
       "    </tr>\n",
       "    <tr>\n",
       "      <th>...</th>\n",
       "      <td>...</td>\n",
       "      <td>...</td>\n",
       "      <td>...</td>\n",
       "      <td>...</td>\n",
       "      <td>...</td>\n",
       "      <td>...</td>\n",
       "      <td>...</td>\n",
       "      <td>...</td>\n",
       "      <td>...</td>\n",
       "      <td>...</td>\n",
       "      <td>...</td>\n",
       "    </tr>\n",
       "    <tr>\n",
       "      <th>81788</th>\n",
       "      <td>A0009138</td>\n",
       "      <td>서울 중랑구</td>\n",
       "      <td>우림주유소</td>\n",
       "      <td>서울 중랑구 용마산로 487 (망우제3동)</td>\n",
       "      <td>20221227</td>\n",
       "      <td>GS칼텍스</td>\n",
       "      <td>셀프</td>\n",
       "      <td>0</td>\n",
       "      <td>1525</td>\n",
       "      <td>1745</td>\n",
       "      <td>0</td>\n",
       "    </tr>\n",
       "    <tr>\n",
       "      <th>81789</th>\n",
       "      <td>A0009138</td>\n",
       "      <td>서울 중랑구</td>\n",
       "      <td>우림주유소</td>\n",
       "      <td>서울 중랑구 용마산로 487 (망우제3동)</td>\n",
       "      <td>20221228</td>\n",
       "      <td>GS칼텍스</td>\n",
       "      <td>셀프</td>\n",
       "      <td>0</td>\n",
       "      <td>1525</td>\n",
       "      <td>1720</td>\n",
       "      <td>0</td>\n",
       "    </tr>\n",
       "    <tr>\n",
       "      <th>81790</th>\n",
       "      <td>A0009138</td>\n",
       "      <td>서울 중랑구</td>\n",
       "      <td>우림주유소</td>\n",
       "      <td>서울 중랑구 용마산로 487 (망우제3동)</td>\n",
       "      <td>20221229</td>\n",
       "      <td>GS칼텍스</td>\n",
       "      <td>셀프</td>\n",
       "      <td>0</td>\n",
       "      <td>1525</td>\n",
       "      <td>1720</td>\n",
       "      <td>0</td>\n",
       "    </tr>\n",
       "    <tr>\n",
       "      <th>81791</th>\n",
       "      <td>A0009138</td>\n",
       "      <td>서울 중랑구</td>\n",
       "      <td>우림주유소</td>\n",
       "      <td>서울 중랑구 용마산로 487 (망우제3동)</td>\n",
       "      <td>20221230</td>\n",
       "      <td>GS칼텍스</td>\n",
       "      <td>셀프</td>\n",
       "      <td>0</td>\n",
       "      <td>1515</td>\n",
       "      <td>1715</td>\n",
       "      <td>0</td>\n",
       "    </tr>\n",
       "    <tr>\n",
       "      <th>81792</th>\n",
       "      <td>A0009138</td>\n",
       "      <td>서울 중랑구</td>\n",
       "      <td>우림주유소</td>\n",
       "      <td>서울 중랑구 용마산로 487 (망우제3동)</td>\n",
       "      <td>20221231</td>\n",
       "      <td>GS칼텍스</td>\n",
       "      <td>셀프</td>\n",
       "      <td>0</td>\n",
       "      <td>1515</td>\n",
       "      <td>1715</td>\n",
       "      <td>0</td>\n",
       "    </tr>\n",
       "  </tbody>\n",
       "</table>\n",
       "<p>164482 rows × 11 columns</p>\n",
       "</div>"
      ],
      "text/plain": [
       "             번호      지역               상호                       주소        기간  \\\n",
       "0      A0006039  서울 강남구  (유)동하석유 힐탑셀프주유소           서울 강남구 논현로 640  20220101   \n",
       "1      A0006039  서울 강남구  (유)동하석유 힐탑셀프주유소           서울 강남구 논현로 640  20220102   \n",
       "2      A0006039  서울 강남구  (유)동하석유 힐탑셀프주유소           서울 강남구 논현로 640  20220103   \n",
       "3      A0006039  서울 강남구  (유)동하석유 힐탑셀프주유소           서울 강남구 논현로 640  20220104   \n",
       "4      A0006039  서울 강남구  (유)동하석유 힐탑셀프주유소           서울 강남구 논현로 640  20220105   \n",
       "...         ...     ...              ...                      ...       ...   \n",
       "81788  A0009138  서울 중랑구            우림주유소  서울 중랑구 용마산로 487 (망우제3동)  20221227   \n",
       "81789  A0009138  서울 중랑구            우림주유소  서울 중랑구 용마산로 487 (망우제3동)  20221228   \n",
       "81790  A0009138  서울 중랑구            우림주유소  서울 중랑구 용마산로 487 (망우제3동)  20221229   \n",
       "81791  A0009138  서울 중랑구            우림주유소  서울 중랑구 용마산로 487 (망우제3동)  20221230   \n",
       "81792  A0009138  서울 중랑구            우림주유소  서울 중랑구 용마산로 487 (망우제3동)  20221231   \n",
       "\n",
       "          상표 셀프여부  고급휘발유   휘발유    경유  실내등유  \n",
       "0      SK에너지   셀프   1887  1737  1587     0  \n",
       "1      SK에너지   셀프   1887  1737  1587     0  \n",
       "2      SK에너지   셀프   1887  1737  1587     0  \n",
       "3      SK에너지   셀프   1887  1737  1587     0  \n",
       "4      SK에너지   셀프   1887  1737  1587     0  \n",
       "...      ...  ...    ...   ...   ...   ...  \n",
       "81788  GS칼텍스   셀프      0  1525  1745     0  \n",
       "81789  GS칼텍스   셀프      0  1525  1720     0  \n",
       "81790  GS칼텍스   셀프      0  1525  1720     0  \n",
       "81791  GS칼텍스   셀프      0  1515  1715     0  \n",
       "81792  GS칼텍스   셀프      0  1515  1715     0  \n",
       "\n",
       "[164482 rows x 11 columns]"
      ]
     },
     "execution_count": 13,
     "metadata": {},
     "output_type": "execute_result"
    }
   ],
   "source": [
    "# 상반기, 하반기 DataFrame 합치기\n",
    "# a.info(), b.info()\n",
    "\n",
    "df = pd.concat([a, b])\n",
    "df\n"
   ]
  },
  {
   "cell_type": "code",
   "execution_count": 14,
   "metadata": {
    "ExecuteTime": {
     "end_time": "2022-06-17T04:38:27.403867Z",
     "start_time": "2022-06-17T04:38:27.390875Z"
    }
   },
   "outputs": [
    {
     "name": "stdout",
     "output_type": "stream",
     "text": [
      "<class 'pandas.core.frame.DataFrame'>\n",
      "Index: 164482 entries, 0 to 81792\n",
      "Data columns (total 11 columns):\n",
      " #   Column  Non-Null Count   Dtype \n",
      "---  ------  --------------   ----- \n",
      " 0   번호      164482 non-null  object\n",
      " 1   지역      164482 non-null  object\n",
      " 2   상호      164482 non-null  object\n",
      " 3   주소      164482 non-null  object\n",
      " 4   기간      164482 non-null  int64 \n",
      " 5   상표      164482 non-null  object\n",
      " 6   셀프여부    164482 non-null  object\n",
      " 7   고급휘발유   164482 non-null  int64 \n",
      " 8   휘발유     164482 non-null  int64 \n",
      " 9   경유      164482 non-null  int64 \n",
      " 10  실내등유    164482 non-null  int64 \n",
      "dtypes: int64(5), object(6)\n",
      "memory usage: 15.1+ MB\n"
     ]
    }
   ],
   "source": [
    "# DataFrame 기본 정보 조회\n",
    "df.shape\n",
    "df.info()\n"
   ]
  },
  {
   "cell_type": "code",
   "execution_count": 15,
   "metadata": {
    "ExecuteTime": {
     "end_time": "2022-06-17T04:38:27.419791Z",
     "start_time": "2022-06-17T04:38:27.407821Z"
    }
   },
   "outputs": [
    {
     "name": "stdout",
     "output_type": "stream",
     "text": [
      "['SK에너지' 'GS칼텍스' '현대오일뱅크' 'S-OIL' '알뜰주유소' '자가상표' '알뜰(ex)']\n"
     ]
    }
   ],
   "source": [
    "# 상표 컬럼의 고유값 조회\n",
    "unique_brands = df['상표'].unique()\n",
    "\n",
    "print(unique_brands)"
   ]
  },
  {
   "cell_type": "code",
   "execution_count": null,
   "metadata": {
    "ExecuteTime": {
     "end_time": "2022-06-17T04:38:27.435783Z",
     "start_time": "2022-06-17T04:38:27.422780Z"
    }
   },
   "outputs": [
    {
     "name": "stdout",
     "output_type": "stream",
     "text": [
      "['서울 강남구' '서울 강동구' '서울 강북구' '서울 강서구' '서울 관악구' '서울 광진구' '서울 구로구' '서울 금천구'\n",
      " '서울 노원구' '서울 도봉구' '서울 동대문구' '서울 동작구' '서울 마포구' '서울 서대문구' '서울 서초구' '서울 성동구'\n",
      " '서울 성북구' '서울 송파구' '서울 양천구' '서울 영등포구' '서울 용산구' '서울 은평구' '서울 종로구' '서울 중구'\n",
      " '서울 중랑구']\n"
     ]
    }
   ],
   "source": [
    "# 지역 컬럼의 고유값 조회\n",
    "unique_region = df['지역'].unique()\n",
    "\n",
    "print(unique_region)\n"
   ]
  },
  {
   "cell_type": "markdown",
   "metadata": {},
   "source": [
    "> ### str accessor\n",
    "> - `Series.str.String메소드()`\n",
    "> - 문자열 타입 Series에 String 메소드들을 사용하여 일괄처리 할 수 있도록 한다.\n",
    "> - str accessor 메소드 : https://pandas.pydata.org/pandas-docs/stable/reference/series.html#api-series-str\n",
    "\n",
    "> ### datetime으로 변환\n",
    "> - `pd.to_datetime(변환할 Series, format=\"날짜형식\")`\n",
    "> - x 또는 y 축이 날짜 일 경우 datetime 타입으로 처리하는 것이 좋다.\n",
    "> - format: 년월일의 형식을 strftime 형식문자열로 지정한다. \n",
    ">      - [strftime 형식](https://docs.python.org/3/library/datetime.html#strftime-and-strptime-format-codes)  \n",
    "> - datetime을 변환하면 날짜만의 기능을 다룰 수 있다.\n",
    ">     - dt accessor를 이용해 datetime의 속성값들을(년, 월, 일 등) 추출할 수 있다.\n",
    ">     - https://pandas.pydata.org/pandas-docs/stable/reference/api/pandas.Series.dt.html\n"
   ]
  },
  {
   "cell_type": "code",
   "execution_count": 20,
   "metadata": {
    "ExecuteTime": {
     "end_time": "2022-06-17T04:38:27.451702Z",
     "start_time": "2022-06-17T04:38:27.438737Z"
    }
   },
   "outputs": [
    {
     "data": {
      "text/plain": [
       "0      강남구\n",
       "1      강동구\n",
       "2      강북구\n",
       "3      강서구\n",
       "4      관악구\n",
       "5      광진구\n",
       "6      구로구\n",
       "7      금천구\n",
       "8      노원구\n",
       "9      도봉구\n",
       "10    동대문구\n",
       "11     동작구\n",
       "12     마포구\n",
       "13    서대문구\n",
       "14     서초구\n",
       "15     성동구\n",
       "16     성북구\n",
       "17     송파구\n",
       "18     양천구\n",
       "19    영등포구\n",
       "20     용산구\n",
       "21     은평구\n",
       "22     종로구\n",
       "23      중구\n",
       "24     중랑구\n",
       "dtype: object"
      ]
     },
     "execution_count": 20,
     "metadata": {},
     "output_type": "execute_result"
    }
   ],
   "source": [
    "# 지역 컬럼의 값을 이용하여 \"구\" 컬럼 생성 (지역에서 구만 추출해서 파생변수컬럼 생성해서 구별로로 집계를 할 수있도록 한다.)\n",
    "unique_region = df['지역'].unique()\n",
    "s = pd.Series(unique_region)\n",
    "gu_list = s.str.split(' ').str[1]\n",
    "gu_list"
   ]
  },
  {
   "cell_type": "code",
   "execution_count": 26,
   "metadata": {
    "ExecuteTime": {
     "end_time": "2022-06-17T04:38:27.467660Z",
     "start_time": "2022-06-17T04:38:27.454702Z"
    }
   },
   "outputs": [
    {
     "data": {
      "text/plain": [
       "0       2022-01-01\n",
       "1       2022-01-02\n",
       "2       2022-01-03\n",
       "3       2022-01-04\n",
       "4       2022-01-05\n",
       "           ...    \n",
       "81788   2022-12-27\n",
       "81789   2022-12-28\n",
       "81790   2022-12-29\n",
       "81791   2022-12-30\n",
       "81792   2022-12-31\n",
       "Name: 기간, Length: 164482, dtype: datetime64[ns]"
      ]
     },
     "execution_count": 26,
     "metadata": {},
     "output_type": "execute_result"
    }
   ],
   "source": [
    "# 기간 컬럼을 datetime 타입으로 변경한다.\n",
    "date_span = df['기간']\n",
    "date_span\n",
    "s = pd.Series(date_span)\n",
    "s_datetime = pd.to_datetime(s, format='%Y%m%d')\n",
    "s_datetime\n",
    "\n"
   ]
  },
  {
   "cell_type": "code",
   "execution_count": 33,
   "metadata": {
    "ExecuteTime": {
     "end_time": "2022-06-17T04:38:27.483617Z",
     "start_time": "2022-06-17T04:38:27.470653Z"
    }
   },
   "outputs": [
    {
     "data": {
      "text/html": [
       "<div>\n",
       "<style scoped>\n",
       "    .dataframe tbody tr th:only-of-type {\n",
       "        vertical-align: middle;\n",
       "    }\n",
       "\n",
       "    .dataframe tbody tr th {\n",
       "        vertical-align: top;\n",
       "    }\n",
       "\n",
       "    .dataframe thead th {\n",
       "        text-align: right;\n",
       "    }\n",
       "</style>\n",
       "<table border=\"1\" class=\"dataframe\">\n",
       "  <thead>\n",
       "    <tr style=\"text-align: right;\">\n",
       "      <th></th>\n",
       "      <th>번호</th>\n",
       "      <th>지역</th>\n",
       "      <th>상호</th>\n",
       "      <th>주소</th>\n",
       "      <th>기간</th>\n",
       "      <th>상표</th>\n",
       "      <th>셀프여부</th>\n",
       "      <th>고급휘발유</th>\n",
       "      <th>휘발유</th>\n",
       "      <th>경유</th>\n",
       "      <th>실내등유</th>\n",
       "      <th>기간2</th>\n",
       "      <th>월</th>\n",
       "      <th>일</th>\n",
       "      <th>요일</th>\n",
       "    </tr>\n",
       "  </thead>\n",
       "  <tbody>\n",
       "    <tr>\n",
       "      <th>81693</th>\n",
       "      <td>A0009138</td>\n",
       "      <td>서울 중랑구</td>\n",
       "      <td>우림주유소</td>\n",
       "      <td>서울 중랑구 용마산로 487 (망우제3동)</td>\n",
       "      <td>20220923</td>\n",
       "      <td>GS칼텍스</td>\n",
       "      <td>셀프</td>\n",
       "      <td>0</td>\n",
       "      <td>1675</td>\n",
       "      <td>1815</td>\n",
       "      <td>0</td>\n",
       "      <td>2022-09-23</td>\n",
       "      <td>9</td>\n",
       "      <td>23</td>\n",
       "      <td>4</td>\n",
       "    </tr>\n",
       "    <tr>\n",
       "      <th>81694</th>\n",
       "      <td>A0009138</td>\n",
       "      <td>서울 중랑구</td>\n",
       "      <td>우림주유소</td>\n",
       "      <td>서울 중랑구 용마산로 487 (망우제3동)</td>\n",
       "      <td>20220924</td>\n",
       "      <td>GS칼텍스</td>\n",
       "      <td>셀프</td>\n",
       "      <td>0</td>\n",
       "      <td>1675</td>\n",
       "      <td>1815</td>\n",
       "      <td>0</td>\n",
       "      <td>2022-09-24</td>\n",
       "      <td>9</td>\n",
       "      <td>24</td>\n",
       "      <td>5</td>\n",
       "    </tr>\n",
       "    <tr>\n",
       "      <th>81695</th>\n",
       "      <td>A0009138</td>\n",
       "      <td>서울 중랑구</td>\n",
       "      <td>우림주유소</td>\n",
       "      <td>서울 중랑구 용마산로 487 (망우제3동)</td>\n",
       "      <td>20220925</td>\n",
       "      <td>GS칼텍스</td>\n",
       "      <td>셀프</td>\n",
       "      <td>0</td>\n",
       "      <td>1675</td>\n",
       "      <td>1815</td>\n",
       "      <td>0</td>\n",
       "      <td>2022-09-25</td>\n",
       "      <td>9</td>\n",
       "      <td>25</td>\n",
       "      <td>6</td>\n",
       "    </tr>\n",
       "    <tr>\n",
       "      <th>81696</th>\n",
       "      <td>A0009138</td>\n",
       "      <td>서울 중랑구</td>\n",
       "      <td>우림주유소</td>\n",
       "      <td>서울 중랑구 용마산로 487 (망우제3동)</td>\n",
       "      <td>20220926</td>\n",
       "      <td>GS칼텍스</td>\n",
       "      <td>셀프</td>\n",
       "      <td>0</td>\n",
       "      <td>1665</td>\n",
       "      <td>1797</td>\n",
       "      <td>0</td>\n",
       "      <td>2022-09-26</td>\n",
       "      <td>9</td>\n",
       "      <td>26</td>\n",
       "      <td>0</td>\n",
       "    </tr>\n",
       "    <tr>\n",
       "      <th>81697</th>\n",
       "      <td>A0009138</td>\n",
       "      <td>서울 중랑구</td>\n",
       "      <td>우림주유소</td>\n",
       "      <td>서울 중랑구 용마산로 487 (망우제3동)</td>\n",
       "      <td>20220927</td>\n",
       "      <td>GS칼텍스</td>\n",
       "      <td>셀프</td>\n",
       "      <td>0</td>\n",
       "      <td>1665</td>\n",
       "      <td>1797</td>\n",
       "      <td>0</td>\n",
       "      <td>2022-09-27</td>\n",
       "      <td>9</td>\n",
       "      <td>27</td>\n",
       "      <td>1</td>\n",
       "    </tr>\n",
       "    <tr>\n",
       "      <th>...</th>\n",
       "      <td>...</td>\n",
       "      <td>...</td>\n",
       "      <td>...</td>\n",
       "      <td>...</td>\n",
       "      <td>...</td>\n",
       "      <td>...</td>\n",
       "      <td>...</td>\n",
       "      <td>...</td>\n",
       "      <td>...</td>\n",
       "      <td>...</td>\n",
       "      <td>...</td>\n",
       "      <td>...</td>\n",
       "      <td>...</td>\n",
       "      <td>...</td>\n",
       "      <td>...</td>\n",
       "    </tr>\n",
       "    <tr>\n",
       "      <th>81788</th>\n",
       "      <td>A0009138</td>\n",
       "      <td>서울 중랑구</td>\n",
       "      <td>우림주유소</td>\n",
       "      <td>서울 중랑구 용마산로 487 (망우제3동)</td>\n",
       "      <td>20221227</td>\n",
       "      <td>GS칼텍스</td>\n",
       "      <td>셀프</td>\n",
       "      <td>0</td>\n",
       "      <td>1525</td>\n",
       "      <td>1745</td>\n",
       "      <td>0</td>\n",
       "      <td>2022-12-27</td>\n",
       "      <td>12</td>\n",
       "      <td>27</td>\n",
       "      <td>1</td>\n",
       "    </tr>\n",
       "    <tr>\n",
       "      <th>81789</th>\n",
       "      <td>A0009138</td>\n",
       "      <td>서울 중랑구</td>\n",
       "      <td>우림주유소</td>\n",
       "      <td>서울 중랑구 용마산로 487 (망우제3동)</td>\n",
       "      <td>20221228</td>\n",
       "      <td>GS칼텍스</td>\n",
       "      <td>셀프</td>\n",
       "      <td>0</td>\n",
       "      <td>1525</td>\n",
       "      <td>1720</td>\n",
       "      <td>0</td>\n",
       "      <td>2022-12-28</td>\n",
       "      <td>12</td>\n",
       "      <td>28</td>\n",
       "      <td>2</td>\n",
       "    </tr>\n",
       "    <tr>\n",
       "      <th>81790</th>\n",
       "      <td>A0009138</td>\n",
       "      <td>서울 중랑구</td>\n",
       "      <td>우림주유소</td>\n",
       "      <td>서울 중랑구 용마산로 487 (망우제3동)</td>\n",
       "      <td>20221229</td>\n",
       "      <td>GS칼텍스</td>\n",
       "      <td>셀프</td>\n",
       "      <td>0</td>\n",
       "      <td>1525</td>\n",
       "      <td>1720</td>\n",
       "      <td>0</td>\n",
       "      <td>2022-12-29</td>\n",
       "      <td>12</td>\n",
       "      <td>29</td>\n",
       "      <td>3</td>\n",
       "    </tr>\n",
       "    <tr>\n",
       "      <th>81791</th>\n",
       "      <td>A0009138</td>\n",
       "      <td>서울 중랑구</td>\n",
       "      <td>우림주유소</td>\n",
       "      <td>서울 중랑구 용마산로 487 (망우제3동)</td>\n",
       "      <td>20221230</td>\n",
       "      <td>GS칼텍스</td>\n",
       "      <td>셀프</td>\n",
       "      <td>0</td>\n",
       "      <td>1515</td>\n",
       "      <td>1715</td>\n",
       "      <td>0</td>\n",
       "      <td>2022-12-30</td>\n",
       "      <td>12</td>\n",
       "      <td>30</td>\n",
       "      <td>4</td>\n",
       "    </tr>\n",
       "    <tr>\n",
       "      <th>81792</th>\n",
       "      <td>A0009138</td>\n",
       "      <td>서울 중랑구</td>\n",
       "      <td>우림주유소</td>\n",
       "      <td>서울 중랑구 용마산로 487 (망우제3동)</td>\n",
       "      <td>20221231</td>\n",
       "      <td>GS칼텍스</td>\n",
       "      <td>셀프</td>\n",
       "      <td>0</td>\n",
       "      <td>1515</td>\n",
       "      <td>1715</td>\n",
       "      <td>0</td>\n",
       "      <td>2022-12-31</td>\n",
       "      <td>12</td>\n",
       "      <td>31</td>\n",
       "      <td>5</td>\n",
       "    </tr>\n",
       "  </tbody>\n",
       "</table>\n",
       "<p>100 rows × 15 columns</p>\n",
       "</div>"
      ],
      "text/plain": [
       "             번호      지역     상호                       주소        기간     상표 셀프여부  \\\n",
       "81693  A0009138  서울 중랑구  우림주유소  서울 중랑구 용마산로 487 (망우제3동)  20220923  GS칼텍스   셀프   \n",
       "81694  A0009138  서울 중랑구  우림주유소  서울 중랑구 용마산로 487 (망우제3동)  20220924  GS칼텍스   셀프   \n",
       "81695  A0009138  서울 중랑구  우림주유소  서울 중랑구 용마산로 487 (망우제3동)  20220925  GS칼텍스   셀프   \n",
       "81696  A0009138  서울 중랑구  우림주유소  서울 중랑구 용마산로 487 (망우제3동)  20220926  GS칼텍스   셀프   \n",
       "81697  A0009138  서울 중랑구  우림주유소  서울 중랑구 용마산로 487 (망우제3동)  20220927  GS칼텍스   셀프   \n",
       "...         ...     ...    ...                      ...       ...    ...  ...   \n",
       "81788  A0009138  서울 중랑구  우림주유소  서울 중랑구 용마산로 487 (망우제3동)  20221227  GS칼텍스   셀프   \n",
       "81789  A0009138  서울 중랑구  우림주유소  서울 중랑구 용마산로 487 (망우제3동)  20221228  GS칼텍스   셀프   \n",
       "81790  A0009138  서울 중랑구  우림주유소  서울 중랑구 용마산로 487 (망우제3동)  20221229  GS칼텍스   셀프   \n",
       "81791  A0009138  서울 중랑구  우림주유소  서울 중랑구 용마산로 487 (망우제3동)  20221230  GS칼텍스   셀프   \n",
       "81792  A0009138  서울 중랑구  우림주유소  서울 중랑구 용마산로 487 (망우제3동)  20221231  GS칼텍스   셀프   \n",
       "\n",
       "       고급휘발유   휘발유    경유  실내등유        기간2   월   일  요일  \n",
       "81693      0  1675  1815     0 2022-09-23   9  23   4  \n",
       "81694      0  1675  1815     0 2022-09-24   9  24   5  \n",
       "81695      0  1675  1815     0 2022-09-25   9  25   6  \n",
       "81696      0  1665  1797     0 2022-09-26   9  26   0  \n",
       "81697      0  1665  1797     0 2022-09-27   9  27   1  \n",
       "...      ...   ...   ...   ...        ...  ..  ..  ..  \n",
       "81788      0  1525  1745     0 2022-12-27  12  27   1  \n",
       "81789      0  1525  1720     0 2022-12-28  12  28   2  \n",
       "81790      0  1525  1720     0 2022-12-29  12  29   3  \n",
       "81791      0  1515  1715     0 2022-12-30  12  30   4  \n",
       "81792      0  1515  1715     0 2022-12-31  12  31   5  \n",
       "\n",
       "[100 rows x 15 columns]"
      ]
     },
     "execution_count": 33,
     "metadata": {},
     "output_type": "execute_result"
    }
   ],
   "source": [
    "# 기간 컬럼을 이용해 \"월\", \"일\", \"요일\" 컬럼 생성 (dt accessor 이용) (월, 일, 요일 별로 집계할 수있도록 한다.)\n",
    "df2 = df.copy()\n",
    "df2['기간']\n",
    "df2['기간2'] = pd.to_datetime(df2['기간'], format='%Y%m%d')\n",
    "df2['월'] = df2['기간2'].dt.month\n",
    "df2['일'] = df2['기간2'].dt.day\n",
    "df2['요일'] = df2['기간2'].dt.dayofweek\n",
    "df2.tail(100)"
   ]
  },
  {
   "cell_type": "code",
   "execution_count": null,
   "metadata": {
    "ExecuteTime": {
     "end_time": "2022-06-17T04:38:27.499576Z",
     "start_time": "2022-06-17T04:38:27.486611Z"
    }
   },
   "outputs": [],
   "source": [
    "# 요일 - 0:월, 1:화, 2:수, 3:목, 4:금, 5:토, 6:일 로 변경\n"
   ]
  },
  {
   "cell_type": "code",
   "execution_count": null,
   "metadata": {
    "ExecuteTime": {
     "end_time": "2022-06-17T04:38:27.515547Z",
     "start_time": "2022-06-17T04:38:27.505561Z"
    }
   },
   "outputs": [
    {
     "data": {
      "text/html": [
       "<div>\n",
       "<style scoped>\n",
       "    .dataframe tbody tr th:only-of-type {\n",
       "        vertical-align: middle;\n",
       "    }\n",
       "\n",
       "    .dataframe tbody tr th {\n",
       "        vertical-align: top;\n",
       "    }\n",
       "\n",
       "    .dataframe thead th {\n",
       "        text-align: right;\n",
       "    }\n",
       "</style>\n",
       "<table border=\"1\" class=\"dataframe\">\n",
       "  <thead>\n",
       "    <tr style=\"text-align: right;\">\n",
       "      <th></th>\n",
       "      <th>번호</th>\n",
       "      <th>지역</th>\n",
       "      <th>상호</th>\n",
       "      <th>주소</th>\n",
       "      <th>기간</th>\n",
       "      <th>상표</th>\n",
       "      <th>셀프여부</th>\n",
       "      <th>고급휘발유</th>\n",
       "      <th>휘발유</th>\n",
       "      <th>경유</th>\n",
       "      <th>실내등유</th>\n",
       "    </tr>\n",
       "  </thead>\n",
       "  <tbody>\n",
       "    <tr>\n",
       "      <th>78938</th>\n",
       "      <td>A0000767</td>\n",
       "      <td>서울 중구</td>\n",
       "      <td>서남주유소</td>\n",
       "      <td>서울 중구 통일로 30</td>\n",
       "      <td>20220625</td>\n",
       "      <td>SK에너지</td>\n",
       "      <td>일반</td>\n",
       "      <td>3496</td>\n",
       "      <td>3096</td>\n",
       "      <td>3223</td>\n",
       "      <td>2719</td>\n",
       "    </tr>\n",
       "    <tr>\n",
       "      <th>78935</th>\n",
       "      <td>A0000767</td>\n",
       "      <td>서울 중구</td>\n",
       "      <td>서남주유소</td>\n",
       "      <td>서울 중구 통일로 30</td>\n",
       "      <td>20220622</td>\n",
       "      <td>SK에너지</td>\n",
       "      <td>일반</td>\n",
       "      <td>3496</td>\n",
       "      <td>3096</td>\n",
       "      <td>3223</td>\n",
       "      <td>2719</td>\n",
       "    </tr>\n",
       "    <tr>\n",
       "      <th>78940</th>\n",
       "      <td>A0000767</td>\n",
       "      <td>서울 중구</td>\n",
       "      <td>서남주유소</td>\n",
       "      <td>서울 중구 통일로 30</td>\n",
       "      <td>20220627</td>\n",
       "      <td>SK에너지</td>\n",
       "      <td>일반</td>\n",
       "      <td>3496</td>\n",
       "      <td>3096</td>\n",
       "      <td>3223</td>\n",
       "      <td>2719</td>\n",
       "    </tr>\n",
       "    <tr>\n",
       "      <th>78936</th>\n",
       "      <td>A0000767</td>\n",
       "      <td>서울 중구</td>\n",
       "      <td>서남주유소</td>\n",
       "      <td>서울 중구 통일로 30</td>\n",
       "      <td>20220623</td>\n",
       "      <td>SK에너지</td>\n",
       "      <td>일반</td>\n",
       "      <td>3496</td>\n",
       "      <td>3096</td>\n",
       "      <td>3223</td>\n",
       "      <td>2719</td>\n",
       "    </tr>\n",
       "    <tr>\n",
       "      <th>78939</th>\n",
       "      <td>A0000767</td>\n",
       "      <td>서울 중구</td>\n",
       "      <td>서남주유소</td>\n",
       "      <td>서울 중구 통일로 30</td>\n",
       "      <td>20220626</td>\n",
       "      <td>SK에너지</td>\n",
       "      <td>일반</td>\n",
       "      <td>3496</td>\n",
       "      <td>3096</td>\n",
       "      <td>3223</td>\n",
       "      <td>2719</td>\n",
       "    </tr>\n",
       "    <tr>\n",
       "      <th>78937</th>\n",
       "      <td>A0000767</td>\n",
       "      <td>서울 중구</td>\n",
       "      <td>서남주유소</td>\n",
       "      <td>서울 중구 통일로 30</td>\n",
       "      <td>20220624</td>\n",
       "      <td>SK에너지</td>\n",
       "      <td>일반</td>\n",
       "      <td>3496</td>\n",
       "      <td>3096</td>\n",
       "      <td>3223</td>\n",
       "      <td>2719</td>\n",
       "    </tr>\n",
       "    <tr>\n",
       "      <th>78943</th>\n",
       "      <td>A0000767</td>\n",
       "      <td>서울 중구</td>\n",
       "      <td>서남주유소</td>\n",
       "      <td>서울 중구 통일로 30</td>\n",
       "      <td>20220630</td>\n",
       "      <td>SK에너지</td>\n",
       "      <td>일반</td>\n",
       "      <td>3481</td>\n",
       "      <td>3081</td>\n",
       "      <td>3230</td>\n",
       "      <td>2703</td>\n",
       "    </tr>\n",
       "    <tr>\n",
       "      <th>77931</th>\n",
       "      <td>A0000767</td>\n",
       "      <td>서울 중구</td>\n",
       "      <td>서남주유소</td>\n",
       "      <td>서울 중구 통일로 30</td>\n",
       "      <td>20220703</td>\n",
       "      <td>SK에너지</td>\n",
       "      <td>일반</td>\n",
       "      <td>3481</td>\n",
       "      <td>3081</td>\n",
       "      <td>3230</td>\n",
       "      <td>2703</td>\n",
       "    </tr>\n",
       "    <tr>\n",
       "      <th>78942</th>\n",
       "      <td>A0000767</td>\n",
       "      <td>서울 중구</td>\n",
       "      <td>서남주유소</td>\n",
       "      <td>서울 중구 통일로 30</td>\n",
       "      <td>20220629</td>\n",
       "      <td>SK에너지</td>\n",
       "      <td>일반</td>\n",
       "      <td>3481</td>\n",
       "      <td>3081</td>\n",
       "      <td>3230</td>\n",
       "      <td>2703</td>\n",
       "    </tr>\n",
       "    <tr>\n",
       "      <th>78941</th>\n",
       "      <td>A0000767</td>\n",
       "      <td>서울 중구</td>\n",
       "      <td>서남주유소</td>\n",
       "      <td>서울 중구 통일로 30</td>\n",
       "      <td>20220628</td>\n",
       "      <td>SK에너지</td>\n",
       "      <td>일반</td>\n",
       "      <td>3481</td>\n",
       "      <td>3081</td>\n",
       "      <td>3230</td>\n",
       "      <td>2703</td>\n",
       "    </tr>\n",
       "  </tbody>\n",
       "</table>\n",
       "</div>"
      ],
      "text/plain": [
       "             번호     지역     상호            주소        기간     상표 셀프여부  고급휘발유  \\\n",
       "78938  A0000767  서울 중구  서남주유소  서울 중구 통일로 30  20220625  SK에너지   일반   3496   \n",
       "78935  A0000767  서울 중구  서남주유소  서울 중구 통일로 30  20220622  SK에너지   일반   3496   \n",
       "78940  A0000767  서울 중구  서남주유소  서울 중구 통일로 30  20220627  SK에너지   일반   3496   \n",
       "78936  A0000767  서울 중구  서남주유소  서울 중구 통일로 30  20220623  SK에너지   일반   3496   \n",
       "78939  A0000767  서울 중구  서남주유소  서울 중구 통일로 30  20220626  SK에너지   일반   3496   \n",
       "78937  A0000767  서울 중구  서남주유소  서울 중구 통일로 30  20220624  SK에너지   일반   3496   \n",
       "78943  A0000767  서울 중구  서남주유소  서울 중구 통일로 30  20220630  SK에너지   일반   3481   \n",
       "77931  A0000767  서울 중구  서남주유소  서울 중구 통일로 30  20220703  SK에너지   일반   3481   \n",
       "78942  A0000767  서울 중구  서남주유소  서울 중구 통일로 30  20220629  SK에너지   일반   3481   \n",
       "78941  A0000767  서울 중구  서남주유소  서울 중구 통일로 30  20220628  SK에너지   일반   3481   \n",
       "\n",
       "        휘발유    경유  실내등유  \n",
       "78938  3096  3223  2719  \n",
       "78935  3096  3223  2719  \n",
       "78940  3096  3223  2719  \n",
       "78936  3096  3223  2719  \n",
       "78939  3096  3223  2719  \n",
       "78937  3096  3223  2719  \n",
       "78943  3081  3230  2703  \n",
       "77931  3081  3230  2703  \n",
       "78942  3081  3230  2703  \n",
       "78941  3081  3230  2703  "
      ]
     },
     "execution_count": 39,
     "metadata": {},
     "output_type": "execute_result"
    }
   ],
   "source": [
    "# 휘발유 가격이 가장 비싼 5개 행 조회\n",
    "# df2['위발유'].max().head(5)\n",
    "df_sorted = df.sort_values(by='휘발유', ascending=False)\n",
    "top_5_expensive = df_sorted.head(5)\n",
    "top_5_expensive\n"
   ]
  },
  {
   "cell_type": "code",
   "execution_count": null,
   "metadata": {
    "ExecuteTime": {
     "end_time": "2022-06-17T04:38:27.531491Z",
     "start_time": "2022-06-17T04:38:27.520519Z"
    }
   },
   "outputs": [],
   "source": [
    "# 휘발유 가격이 가장 저렴한 5개 행 조회 (단 0원인 주유소 제외)\n"
   ]
  },
  {
   "cell_type": "code",
   "execution_count": null,
   "metadata": {
    "ExecuteTime": {
     "end_time": "2022-06-17T04:38:27.547464Z",
     "start_time": "2022-06-17T04:38:27.535482Z"
    }
   },
   "outputs": [],
   "source": [
    "# 고급휘발유 가격이 가장 비싼 5개 행 조회\n"
   ]
  },
  {
   "cell_type": "code",
   "execution_count": null,
   "metadata": {
    "ExecuteTime": {
     "end_time": "2022-06-17T04:38:27.563404Z",
     "start_time": "2022-06-17T04:38:27.557420Z"
    }
   },
   "outputs": [],
   "source": [
    "# 고급휘발유 가격이 가장 저렴한 5개 행 조회 (단 0원인 주유소 제외)\n"
   ]
  },
  {
   "cell_type": "code",
   "execution_count": null,
   "metadata": {
    "ExecuteTime": {
     "end_time": "2022-06-17T04:38:27.579370Z",
     "start_time": "2022-06-17T04:38:27.566396Z"
    }
   },
   "outputs": [],
   "source": [
    "# 경유 가격이 가장 비싼 5개 행 조회\n"
   ]
  },
  {
   "cell_type": "code",
   "execution_count": null,
   "metadata": {
    "ExecuteTime": {
     "end_time": "2022-06-17T04:38:27.595319Z",
     "start_time": "2022-06-17T04:38:27.582353Z"
    }
   },
   "outputs": [],
   "source": [
    "# 경유 가격이 가장 저렴한 5개 행 조회 (단 0원인 주유소 제외)\n"
   ]
  },
  {
   "cell_type": "code",
   "execution_count": null,
   "metadata": {
    "ExecuteTime": {
     "end_time": "2022-06-17T04:38:27.611277Z",
     "start_time": "2022-06-17T04:38:27.598311Z"
    }
   },
   "outputs": [],
   "source": [
    "# 상표별 휘발유 평균가격 조회\n"
   ]
  },
  {
   "cell_type": "code",
   "execution_count": null,
   "metadata": {
    "ExecuteTime": {
     "end_time": "2022-06-17T04:38:27.628231Z",
     "start_time": "2022-06-17T04:38:27.614268Z"
    }
   },
   "outputs": [],
   "source": [
    "# 상표별 휘발유 평균가격 시각화\n"
   ]
  },
  {
   "cell_type": "code",
   "execution_count": null,
   "metadata": {
    "ExecuteTime": {
     "end_time": "2022-06-17T04:38:27.643201Z",
     "start_time": "2022-06-17T04:38:27.632220Z"
    }
   },
   "outputs": [],
   "source": [
    "# 셀프주유소와 일반주유소 개수 확인\n"
   ]
  },
  {
   "cell_type": "code",
   "execution_count": null,
   "metadata": {
    "ExecuteTime": {
     "end_time": "2022-06-17T04:38:27.659148Z",
     "start_time": "2022-06-17T04:38:27.647180Z"
    }
   },
   "outputs": [],
   "source": [
    "# 셀프 여부에 따른 휘발유 평균 가격 비교 \n"
   ]
  },
  {
   "cell_type": "code",
   "execution_count": null,
   "metadata": {
    "ExecuteTime": {
     "end_time": "2022-06-17T04:38:27.675104Z",
     "start_time": "2022-06-17T04:38:27.664136Z"
    }
   },
   "outputs": [],
   "source": [
    "# 상표별 일반/셀프 주유소의 휘발유 가격 평균 비교\n"
   ]
  },
  {
   "cell_type": "code",
   "execution_count": null,
   "metadata": {
    "ExecuteTime": {
     "end_time": "2022-06-17T04:38:27.691062Z",
     "start_time": "2022-06-17T04:38:27.678097Z"
    }
   },
   "outputs": [],
   "source": [
    "# 상표별 일반/셀프 주유소의 휘발유 가격 평균 비교 시각화\n"
   ]
  },
  {
   "cell_type": "code",
   "execution_count": null,
   "metadata": {
    "ExecuteTime": {
     "end_time": "2022-06-17T04:38:27.707023Z",
     "start_time": "2022-06-17T04:38:27.694054Z"
    }
   },
   "outputs": [],
   "source": [
    "# 상표별 휘발유 가격의 분포를 boxplot으로 시각화\n"
   ]
  },
  {
   "cell_type": "code",
   "execution_count": null,
   "metadata": {
    "ExecuteTime": {
     "end_time": "2022-06-17T04:38:27.722976Z",
     "start_time": "2022-06-17T04:38:27.710012Z"
    }
   },
   "outputs": [],
   "source": [
    "# 상표별 일반/셀프 주유소의 휘발유 가격에 대한 분포 확인 - boxplot으로 시각화\n"
   ]
  },
  {
   "cell_type": "code",
   "execution_count": null,
   "metadata": {
    "ExecuteTime": {
     "end_time": "2022-06-17T04:38:27.738935Z",
     "start_time": "2022-06-17T04:38:27.725970Z"
    }
   },
   "outputs": [],
   "source": [
    "# 구별 휘발유 가격의 평균\n"
   ]
  },
  {
   "cell_type": "code",
   "execution_count": null,
   "metadata": {
    "ExecuteTime": {
     "end_time": "2022-06-17T04:38:27.753894Z",
     "start_time": "2022-06-17T04:38:27.740929Z"
    },
    "scrolled": true
   },
   "outputs": [],
   "source": [
    "# 평균 가격이 가장 높은 구의 상표별 휘발유 평균가격\n"
   ]
  },
  {
   "cell_type": "code",
   "execution_count": null,
   "metadata": {
    "ExecuteTime": {
     "end_time": "2022-06-17T04:38:27.768853Z",
     "start_time": "2022-06-17T04:38:27.756886Z"
    }
   },
   "outputs": [],
   "source": [
    "# 월 평균 휘발유 가격\n"
   ]
  },
  {
   "cell_type": "code",
   "execution_count": null,
   "metadata": {
    "ExecuteTime": {
     "end_time": "2022-06-17T04:38:27.784812Z",
     "start_time": "2022-06-17T04:38:27.771846Z"
    }
   },
   "outputs": [],
   "source": [
    "# 각 구의 월별 평균 휘발유 가격 \n"
   ]
  },
  {
   "cell_type": "code",
   "execution_count": null,
   "metadata": {
    "ExecuteTime": {
     "end_time": "2022-06-17T04:38:27.800771Z",
     "start_time": "2022-06-17T04:38:27.790796Z"
    }
   },
   "outputs": [],
   "source": [
    "# 각 구의 월별 평균가격의 변화추이 시각화\n"
   ]
  },
  {
   "cell_type": "code",
   "execution_count": null,
   "metadata": {
    "ExecuteTime": {
     "end_time": "2022-06-17T04:38:27.815729Z",
     "start_time": "2022-06-17T04:38:27.803762Z"
    },
    "scrolled": true
   },
   "outputs": [],
   "source": [
    "# 가장 휘발유가격이 비싼 주유소 상위 5 - (같은 주유소가 여러개 나오므로 가장 비싼 가격을 기준으로 집계)\n"
   ]
  },
  {
   "cell_type": "code",
   "execution_count": null,
   "metadata": {
    "ExecuteTime": {
     "end_time": "2022-06-17T04:38:27.830866Z",
     "start_time": "2022-06-17T04:38:27.818721Z"
    },
    "scrolled": true
   },
   "outputs": [],
   "source": [
    "# 가장 휘발유가격이 저렴한 주유소 상위 5 - (같은 주유소가 여러개 나오므로 가장 비싼 가격을 기준으로 집계)\n"
   ]
  },
  {
   "cell_type": "code",
   "execution_count": null,
   "metadata": {
    "ExecuteTime": {
     "end_time": "2022-06-17T04:38:27.847021Z",
     "start_time": "2022-06-17T04:38:27.834852Z"
    }
   },
   "outputs": [],
   "source": [
    "# 휘발유 비싼 주유소의 상위 5개의 상호, 주소, 상표, 셀프여부,  조회 - 위에서 조회한 결과에 추가 정보(상표, 셀프여부 등) 조회 (중복제거-drop_duplicates)\n"
   ]
  },
  {
   "cell_type": "code",
   "execution_count": null,
   "metadata": {
    "ExecuteTime": {
     "end_time": "2022-06-17T04:38:27.877936Z",
     "start_time": "2022-06-17T04:38:27.858987Z"
    }
   },
   "outputs": [],
   "source": [
    "# 휘발유 저렴한 주유소의 상위 5개의 상호, 주소, 상표, 셀프여부,  조회 - 위에서 조회한 결과에 추가 정보(상표, 셀프여부 등) 조회 (중복제거-drop_duplicates)\n"
   ]
  },
  {
   "cell_type": "code",
   "execution_count": null,
   "metadata": {
    "ExecuteTime": {
     "end_time": "2021-03-15T00:08:33.086454Z",
     "start_time": "2021-03-15T00:08:33.041006Z"
    }
   },
   "outputs": [],
   "source": [
    "# 고급 휘발유를 가장 많이 파는 구 조회\n"
   ]
  },
  {
   "cell_type": "code",
   "execution_count": null,
   "metadata": {},
   "outputs": [],
   "source": []
  },
  {
   "cell_type": "code",
   "execution_count": null,
   "metadata": {},
   "outputs": [],
   "source": [
    "###############################################################################\n",
    "# 주유소 가격 데이터를 이용해서 알고 싶은 정보들을 추가 분석해 보세요.\n",
    "###############################################################################\n"
   ]
  },
  {
   "cell_type": "code",
   "execution_count": null,
   "metadata": {},
   "outputs": [],
   "source": []
  },
  {
   "cell_type": "code",
   "execution_count": null,
   "metadata": {},
   "outputs": [],
   "source": []
  },
  {
   "cell_type": "code",
   "execution_count": null,
   "metadata": {},
   "outputs": [],
   "source": []
  },
  {
   "cell_type": "code",
   "execution_count": null,
   "metadata": {},
   "outputs": [],
   "source": []
  }
 ],
 "metadata": {
  "kernelspec": {
   "display_name": ".venv",
   "language": "python",
   "name": "python3"
  },
  "language_info": {
   "codemirror_mode": {
    "name": "ipython",
    "version": 3
   },
   "file_extension": ".py",
   "mimetype": "text/x-python",
   "name": "python",
   "nbconvert_exporter": "python",
   "pygments_lexer": "ipython3",
   "version": "3.13.7"
  },
  "toc": {
   "base_numbering": 1,
   "nav_menu": {},
   "number_sections": true,
   "sideBar": true,
   "skip_h1_title": false,
   "title_cell": "Table of Contents",
   "title_sidebar": "Contents",
   "toc_cell": false,
   "toc_position": {},
   "toc_section_display": true,
   "toc_window_display": false
  },
  "varInspector": {
   "cols": {
    "lenName": 16,
    "lenType": 16,
    "lenVar": 40
   },
   "kernels_config": {
    "python": {
     "delete_cmd_postfix": "",
     "delete_cmd_prefix": "del ",
     "library": "var_list.py",
     "varRefreshCmd": "print(var_dic_list())"
    },
    "r": {
     "delete_cmd_postfix": ") ",
     "delete_cmd_prefix": "rm(",
     "library": "var_list.r",
     "varRefreshCmd": "cat(var_dic_list()) "
    }
   },
   "types_to_exclude": [
    "module",
    "function",
    "builtin_function_or_method",
    "instance",
    "_Feature"
   ],
   "window_display": false
  }
 },
 "nbformat": 4,
 "nbformat_minor": 4
}
